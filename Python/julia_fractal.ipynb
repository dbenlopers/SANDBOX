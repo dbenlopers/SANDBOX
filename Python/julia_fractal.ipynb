{
 "cells": [
  {
   "cell_type": "code",
   "execution_count": null,
   "metadata": {
    "collapsed": true
   },
   "outputs": [],
   "source": [
    "import numpy as np\n",
    "from matplotlib import pyplot as plt\n",
    "from matplotlib import colors\n",
    "%matplotlib inline"
   ]
  },
  {
   "cell_type": "code",
   "execution_count": null,
   "metadata": {
    "collapsed": true
   },
   "outputs": [],
   "source": [
    "def julia_image(N,cmap='gnuplot2'):\n",
    "    z = julia_set(N)\n",
    "    dpi = 72\n",
    "    width = 1+ N//dpi\n",
    "    height = 1+ N//dpi\n",
    "    \n",
    "    fig, ax = plt.subplots(figsize=(width, height),dpi=72)\n",
    "    \n",
    "    ax.imshow(z,cmap=cmap,origin='lower')"
   ]
  },
  {
   "cell_type": "code",
   "execution_count": null,
   "metadata": {
    "collapsed": true
   },
   "outputs": [],
   "source": [
    "%load_ext cython"
   ]
  },
  {
   "cell_type": "code",
   "execution_count": null,
   "metadata": {
    "collapsed": true
   },
   "outputs": [],
   "source": [
    "%%cython\n",
    "\n",
    "import numpy as np\n",
    "cimport numpy as np\n",
    "import cython\n",
    "\n",
    "@cython.boundscheck(False)\n",
    "def julia_cython(int N):\n",
    "    cdef np.ndarray[np.uint8_t, ndim=2] T = np.empty((N, 2*N), dtype=np.uint8)\n",
    "    cdef double complex c = -0.835 - 0.2321j\n",
    "    cdef double complex z\n",
    "    cdef int J, I\n",
    "    cdef double h = 2.0/N\n",
    "    cdef double x, y\n",
    "    for J in range(N):\n",
    "        for I in range(2*N):\n",
    "            y = -1.0 + J*h\n",
    "            x = -2.0 + I*h\n",
    "            T[J,I] = 0\n",
    "            z = x + 1j * y\n",
    "            while z.imag**2 + z.real**2 <= 4:\n",
    "                z = z**2 + c\n",
    "                T[J,I] += 1\n",
    "\n",
    "    return T"
   ]
  },
  {
   "cell_type": "code",
   "execution_count": null,
   "metadata": {
    "collapsed": false
   },
   "outputs": [],
   "source": [
    "julia_set = julia_cython\n",
    "julia_image(1000)"
   ]
  },
  {
   "cell_type": "code",
   "execution_count": null,
   "metadata": {
    "collapsed": false
   },
   "outputs": [],
   "source": [
    "%timeit julia_set(1000)"
   ]
  },
  {
   "cell_type": "code",
   "execution_count": null,
   "metadata": {
    "collapsed": true
   },
   "outputs": [],
   "source": [
    "%%cython\n",
    "\n",
    "import numpy as np\n",
    "cimport numpy as np\n",
    "import cython\n",
    "from cython.parallel cimport prange\n",
    "\n",
    "@cython.boundscheck(False)\n",
    "@cython.wraparound(False)\n",
    "cpdef julia_cython_opt(int N):\n",
    "    cdef np.uint8_t[:,:] T = np.empty((N, 2*N), dtype=np.uint8)\n",
    "    cdef double creal = -0.835, cimag = - 0.2321\n",
    "    cdef double zreal, zimag, zreal2, zimag2\n",
    "    cdef int J, I\n",
    "    cdef double h = 2.0/N\n",
    "    for J in range(N):\n",
    "        for I in range(2*N):\n",
    "            zimag = -1.0 + J*h\n",
    "            zreal = -2.0 + I*h\n",
    "            T[J,I] = 0\n",
    "            zreal2 = zreal*zreal\n",
    "            zimag2 = zimag*zimag\n",
    "            while zimag2 + zreal2 <= 4:\n",
    "                zimag = 2* zreal*zimag + cimag\n",
    "                zreal = zreal2 - zimag2 + creal\n",
    "                zreal2 = zreal*zreal\n",
    "                zimag2 = zimag*zimag \n",
    "                T[J,I] += 1\n",
    "                 \n",
    "    return T"
   ]
  },
  {
   "cell_type": "code",
   "execution_count": null,
   "metadata": {
    "collapsed": true
   },
   "outputs": [],
   "source": [
    "from numba import jit\n",
    "\n",
    "@jit\n",
    "def julia_numba(N):\n",
    "    T = np.empty((N, 2*N), dtype=np.uint8)\n",
    "    creal = -0.835\n",
    "    cimag = - 0.2321\n",
    "    h = 2.0/N\n",
    "    for J in range(N):\n",
    "        for I in range(2*N):\n",
    "            zimag = -1.0 + J*h\n",
    "            zreal = -2.0 + I*h\n",
    "            T[J,I] = 0\n",
    "            zreal2 = zreal*zreal\n",
    "            zimag2 = zimag*zimag\n",
    "            while zimag2 + zreal2 <= 4:\n",
    "                zimag = 2* zreal*zimag + cimag\n",
    "                zreal = zreal2 - zimag2 + creal\n",
    "                zreal2 = zreal*zreal\n",
    "                zimag2 = zimag*zimag \n",
    "                T[J,I] += 1 \n",
    "    return T"
   ]
  },
  {
   "cell_type": "code",
   "execution_count": null,
   "metadata": {
    "collapsed": true
   },
   "outputs": [],
   "source": [
    "from numba import jit, guvectorize, int32, complex128, complex64, uint8\n",
    "\n",
    "@guvectorize([(complex128[:], uint8[:])], '(n)->(n)', target='parallel')\n",
    "def julia_vect(Z,T):\n",
    "    creal = -0.835\n",
    "    cimag = - 0.2321\n",
    "    for i in range(Z.shape[0]):\n",
    "        zimag = Z[i].imag\n",
    "        zreal = Z[i].real\n",
    "        T[i] = 0\n",
    "        zreal2 = zreal*zreal\n",
    "        zimag2 = zimag*zimag\n",
    "        while zimag2 + zreal2 <= 4:\n",
    "            zimag = 2* zreal*zimag + cimag\n",
    "            zreal = zreal2 - zimag2 + creal\n",
    "            zreal2 = zreal*zreal\n",
    "            zimag2 = zimag*zimag \n",
    "            T[i] += 1    \n",
    "            \n",
    "\n",
    "def julia_numba_vect(N):\n",
    "    r1 = np.linspace(-2.0, 2.0, 2*N)\n",
    "    r2 = np.linspace(-1.0, 1.0, N, dtype=np.float32)\n",
    "    Z = r1 + r2[:,None]*1j\n",
    "    T = julia_vect(Z)\n",
    "    return T"
   ]
  },
  {
   "cell_type": "code",
   "execution_count": null,
   "metadata": {
    "collapsed": true
   },
   "outputs": [],
   "source": [
    "from numba import jit, guvectorize, int32, complex128, complex64, uint8\n",
    "\n",
    "@guvectorize([(complex128[:], uint8[:])], '(n)->(n)', target='cuda')\n",
    "def julia_cuda(Z,T):\n",
    "    creal = -0.835\n",
    "    cimag = - 0.2321\n",
    "    for i in range(Z.shape[0]):\n",
    "        zimag = Z[i].imag\n",
    "        zreal = Z[i].real\n",
    "        T[i] = 0\n",
    "        while True:\n",
    "            zreal2 = zreal*zreal\n",
    "            zimag2 = zimag*zimag\n",
    "            if zimag2 + zreal2 > 4:\n",
    "                break;\n",
    "            zimag = 2* zreal*zimag + cimag\n",
    "            zreal = zreal2 - zimag2 + creal\n",
    "            T[i] += 1 \n",
    "\n",
    "def julia_numba_cuda(N):\n",
    "    r1 = np.linspace(-2.0, 2.0, 2*N)\n",
    "    r2 = np.linspace(-1.0, 1.0, N, dtype=np.float32)\n",
    "    Z = r1 + r2[:,None]*1j\n",
    "    T = julia_cuda(Z)\n",
    "    return T"
   ]
  }
 ],
 "metadata": {
  "kernelspec": {
   "display_name": "Python 3",
   "language": "python",
   "name": "python3"
  },
  "language_info": {
   "codemirror_mode": {
    "name": "ipython",
    "version": 3
   },
   "file_extension": ".py",
   "mimetype": "text/x-python",
   "name": "python",
   "nbconvert_exporter": "python",
   "pygments_lexer": "ipython3",
   "version": "3.5.2"
  }
 },
 "nbformat": 4,
 "nbformat_minor": 2
}
