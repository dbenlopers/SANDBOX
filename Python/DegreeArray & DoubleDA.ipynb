{
 "cells": [
  {
   "cell_type": "code",
   "execution_count": null,
   "metadata": {
    "collapsed": false
   },
   "outputs": [],
   "source": [
    "\n",
    "def DoubleDegreeArray(INFILE):\n",
    "    try:\n",
    "        with open(INFILE) as data:\n",
    "            '''\n",
    "            read data in edgelist format:\n",
    "            1st line: number of vertices, number of edges\n",
    "            subsequent lines:\n",
    "            edge given by two vertices\n",
    "            '''\n",
    "            nvertices, nedges = map(int, data.readline().rstrip().split())\n",
    "            edges = [map(int, line.rstrip().split()) for line in data]\n",
    "\n",
    "            # adjacency dict with vertices as keys, \n",
    "            # lists of adjacent vertices as values \n",
    "            adj = {k:[] for k in range(1,nvertices+1)}\n",
    "            for v1, v2 in edges:\n",
    "                adj[v1].append(v2)\n",
    "                adj[v2].append(v1)\n",
    "\n",
    "            # degree of a vertex is the number of edges that connect to it\n",
    "            # BUT double degree of a vertex is the number of edges that are \n",
    "            # connected to ADJACENT vertices\n",
    "\n",
    "            ddeg = {k:0 for k in adj.keys()}\n",
    "            for vert in adj:\n",
    "                for n in adj[vert]:\n",
    "                    ddeg[vert] += len(adj[n]) \n",
    "\n",
    "            for k, v in sorted(ddeg.items()):\n",
    "                print(v)\n",
    "\n",
    "    except IOError as e:\n",
    "        print('Operation failed: %s' % e.strerror)\n",
    "        \n",
    "\n",
    "def DegreeArray(INFILE):\n",
    "    try:\n",
    "        with open(INFILE) as data:\n",
    "            '''\n",
    "            Read data\n",
    "            '''\n",
    "            nvertices, nedges = map(int, data.readline().rstrip().split())\n",
    "            edges = [map(int, line.rstrip().split()) for line in data]\n",
    "            \n",
    "            # adjacency dict with vertices as keys, \n",
    "            # lists of adjacent vertices as values \n",
    "            adj = {k:[] for k in range(1,nvertices+1)}\n",
    "            for v1, v2 in edges:\n",
    "                adj[v1].append(v2)\n",
    "                adj[v2].append(v1)\n",
    "            \n",
    "            for k, v in sorted(adj.items()):\n",
    "                print(len(v))\n",
    "            \n",
    "    except IOError as e:\n",
    "        print('Operation failed: %s' % e.strerror)\n",
    "\n",
    "INFILE = '/home/akopp/Documents/RosalindInput/rosalind_ddeg.txt'\n",
    "DoubleDegreeArray(INFILE)\n",
    "INFILE = '/home/akopp/Documents/RosalindInput/rosalind_deg.txt'\n",
    "DegreeArray(INFILE)"
   ]
  }
 ],
 "metadata": {
  "kernelspec": {
   "display_name": "Python 3",
   "language": "python",
   "name": "python3"
  },
  "language_info": {
   "codemirror_mode": {
    "name": "ipython",
    "version": 3
   },
   "file_extension": ".py",
   "mimetype": "text/x-python",
   "name": "python",
   "nbconvert_exporter": "python",
   "pygments_lexer": "ipython3",
   "version": "3.5.1"
  }
 },
 "nbformat": 4,
 "nbformat_minor": 0
}
