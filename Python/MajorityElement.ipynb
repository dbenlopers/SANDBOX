{
 "cells": [
  {
   "cell_type": "code",
   "execution_count": 16,
   "metadata": {
    "collapsed": false
   },
   "outputs": [
    {
     "name": "stdout",
     "output_type": "stream",
     "text": [
      "6982\n",
      "-1\n",
      "6982\n",
      "5700\n",
      "-1\n",
      "4402\n",
      "-1\n",
      "6783\n",
      "2745\n",
      "-1\n",
      "-1\n",
      "-1\n",
      "5160\n",
      "-1\n",
      "-1\n",
      "-1\n",
      "5215\n"
     ]
    }
   ],
   "source": [
    "def MajorityElement(InputFile):\n",
    "    try:\n",
    "        with open(InputFile) as data:\n",
    "            '''\n",
    "            Read Data\n",
    "            '''\n",
    "            narray, size = map(int, data.readline().rstrip().split())\n",
    "            \n",
    "            '''\n",
    "            For each array, find the majority element\n",
    "            '''\n",
    "            for line in data:\n",
    "                array = list(map(int, line.rstrip().split()))\n",
    "                print(_FindMajElem(array, size))\n",
    "            \n",
    "            \n",
    "    except IOError as e:\n",
    "        print('Operation failed: %s' % e.strerror)\n",
    "\n",
    "def _FindMajElem(InputList, size):\n",
    "    '''\n",
    "    Find majority element in array, return value if count > n/2 , otherwise -1\n",
    "    Use python counter but Moore’s Voting Algorithm can be a alternative\n",
    "    '''\n",
    "    from collections import Counter\n",
    "    c = Counter(InputList)\n",
    "    value, count = c.most_common()[0]\n",
    "    if count > size/2:\n",
    "        return value\n",
    "    else:\n",
    "        return -1\n",
    "    \n",
    "        \n",
    "InputFile = \"/home/akopp/Documents/RosalindInput/rosalind_maj.txt\"\n",
    "MajorityElement(InputFile)"
   ]
  }
 ],
 "metadata": {
  "kernelspec": {
   "display_name": "Python 3",
   "language": "python",
   "name": "python3"
  },
  "language_info": {
   "codemirror_mode": {
    "name": "ipython",
    "version": 3
   },
   "file_extension": ".py",
   "mimetype": "text/x-python",
   "name": "python",
   "nbconvert_exporter": "python",
   "pygments_lexer": "ipython3",
   "version": "3.5.1"
  }
 },
 "nbformat": 4,
 "nbformat_minor": 0
}
